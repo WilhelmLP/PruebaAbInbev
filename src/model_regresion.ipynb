{
 "cells": [
  {
   "cell_type": "code",
   "execution_count": null,
   "metadata": {},
   "outputs": [],
   "source": []
  }
 ],
 "metadata": {
  "kernelspec": {
   "display_name": "Python 3.10.8 64-bit",
   "language": "python",
   "name": "python3"
  },
  "language_info": {
   "name": "python",
   "version": "3.10.8"
  },
  "orig_nbformat": 4,
  "vscode": {
   "interpreter": {
    "hash": "127857535f78018f69c69e6600ed2b76c9cb2de2272f45476a2baa9afc08ee02"
   }
  }
 },
 "nbformat": 4,
 "nbformat_minor": 2
}
